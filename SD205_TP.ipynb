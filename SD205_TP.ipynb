{
 "cells": [
  {
   "cell_type": "markdown",
   "metadata": {},
   "source": [
    "#### Question Q-1"
   ]
  },
  {
   "cell_type": "code",
   "execution_count": 104,
   "metadata": {
    "collapsed": false
   },
   "outputs": [
    {
     "name": "stdout",
     "output_type": "stream",
     "text": [
      "(94,)\n"
     ]
    }
   ],
   "source": [
    "import numpy as np\n",
    "\n",
    "# Load data:\n",
    "array = np.loadtxt('Motorcycledata.txt')\n",
    "# print(array.shape)\n",
    "t = array[:,1]\n",
    "Y = array[:,2]\n",
    "\n",
    "# Generate the vectors t_i, Y_i\n",
    "t_i, m = np.unique(t, return_counts=True)\n",
    "Y_i = np.unique(Y)\n",
    "\n",
    "# Calculate the valeurs agrégées\n",
    "Y_agre = np.zeros(m.shape[0])\n",
    "index = 0\n",
    "for i in range(0, m.size):\n",
    "    sum = 0\n",
    "    for j in range(0, m[i]):\n",
    "        sum = sum+Y[index]\n",
    "#         print(Y[index])\n",
    "        index = index+1\n",
    "    Y_agre[i] = sum/m[i]\n",
    "#     print Y_agre[i]\n",
    "#     print(m[i])"
   ]
  },
  {
   "cell_type": "markdown",
   "metadata": {},
   "source": [
    "#### Question Q-2"
   ]
  },
  {
   "cell_type": "code",
   "execution_count": 105,
   "metadata": {
    "collapsed": false
   },
   "outputs": [
    {
     "data": {
      "text/plain": [
       "array([ -7.15267685e-03,   6.76952385e-01,  -1.71268509e+01,\n",
       "         7.50606578e+01])"
      ]
     },
     "execution_count": 105,
     "metadata": {},
     "output_type": "execute_result"
    }
   ],
   "source": [
    "import matplotlib.pyplot as plt\n",
    "%matplotlib inline\n",
    "\n",
    "np.polyfit(t_i,Y_agre,3)"
   ]
  },
  {
   "cell_type": "code",
   "execution_count": 94,
   "metadata": {
    "collapsed": false
   },
   "outputs": [
    {
     "name": "stdout",
     "output_type": "stream",
     "text": [
      "(94, 1)\n"
     ]
    },
    {
     "data": {
      "image/png": "[encoded data removed]",
      "text/plain": [
       "<matplotlib.figure.Figure at 0x7fbf04d90550>"
      ]
     },
     "metadata": {},
     "output_type": "display_data"
    }
   ],
   "source": [
    "from sklearn.preprocessing import PolynomialFeatures\n",
    "from sklearn.linear_model import LinearRegression\n",
    "import matplotlib.pyplot as plt\n",
    "%matplotlib inline\n",
    "\n",
    "# For each t_i, polynome=3 is adopted\n",
    "poly = PolynomialFeatures(3)\n",
    "\n",
    "# Reshape the array(94,) to array(94,1)\n",
    "t_i = t_i.reshape(t_i.shape[0],1)\n",
    "t_poly = poly.fit_transform(t_i)[:,3].reshape(t_i.shape[0],1)\n",
    "Y_agre = Y_agre.reshape(Y_agre.shape[0],1)\n",
    "\n",
    "# Linear regression: moindre carrés\n",
    "lr = LinearRegression()\n",
    "lr.fit(t_poly, Y_agre)\n",
    "# lr.intercept_, lr.coef_\n",
    "\n",
    "print((lr.predict(t_poly)).shape)\n",
    "# print(t_i)\n",
    "\n",
    "# Display\n",
    "plt.figure()\n",
    "plt.plot(t_i, Y_agre, 'o')\n",
    "plt.plot(t_i, lr.predict(t_poly))\n",
    "plt.show()"
   ]
  },
  {
   "cell_type": "code",
   "execution_count": null,
   "metadata": {
    "collapsed": true
   },
   "outputs": [],
   "source": []
  },
  {
   "cell_type": "code",
   "execution_count": null,
   "metadata": {
    "collapsed": true
   },
   "outputs": [],
   "source": []
  }
 ],
 "metadata": {
  "kernelspec": {
   "display_name": "Python 2",
   "language": "python",
   "name": "python2"
  },
  "language_info": {
   "codemirror_mode": {
    "name": "ipython",
    "version": 2
   },
   "file_extension": ".py",
   "mimetype": "text/x-python",
   "name": "python",
   "nbconvert_exporter": "python",
   "pygments_lexer": "ipython2",
   "version": "2.7.12"
  }
 },
 "nbformat": 4,
 "nbformat_minor": 0
}
